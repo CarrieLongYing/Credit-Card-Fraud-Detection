{
 "cells": [
  {
   "cell_type": "code",
   "execution_count": 2,
   "metadata": {},
   "outputs": [],
   "source": [
    "import pandas as pd\n",
    "import numpy as np\n",
    "import seaborn as sns\n",
    "import string\n",
    "from imblearn.over_sampling import SMOTE\n",
    "from sklearn import linear_model\n",
    "import math\n",
    "import matplotlib.pyplot as plt\n",
    "import random\n",
    "from sklearn.model_selection import train_test_split\n",
    "from sklearn.model_selection import GridSearchCV\n",
    "from sklearn.linear_model import LogisticRegression\n",
    "from sklearn.ensemble import RandomForestClassifier, GradientBoostingClassifier\n",
    "import sklearn.metrics \n",
    "import warnings\n",
    "warnings.simplefilter('ignore')"
   ]
  },
  {
   "cell_type": "markdown",
   "metadata": {},
   "source": [
    "This project is to predict the fraud credit card. Three models will be implemented:\n",
    "- Logistic Regression\n",
    "- Random Forest\n",
    "- Gredient Boosting Tree"
   ]
  },
  {
   "cell_type": "markdown",
   "metadata": {},
   "source": [
    "The whole project would be devided into five parts:\n",
    "- Upload data\n",
    "- Exploratory Data Analyst and Data Engeering\n",
    "- Useful functions defination\n",
    "- Implement models and test\n",
    "- Project summary"
   ]
  },
  {
   "cell_type": "markdown",
   "metadata": {},
   "source": [
    "# Upload data"
   ]
  },
  {
   "cell_type": "code",
   "execution_count": 3,
   "metadata": {},
   "outputs": [
    {
     "name": "stdout",
     "output_type": "stream",
     "text": [
      "the shape of our data is: (122607, 68)\n"
     ]
    },
    {
     "data": {
      "text/html": [
       "<div>\n",
       "<style scoped>\n",
       "    .dataframe tbody tr th:only-of-type {\n",
       "        vertical-align: middle;\n",
       "    }\n",
       "\n",
       "    .dataframe tbody tr th {\n",
       "        vertical-align: top;\n",
       "    }\n",
       "\n",
       "    .dataframe thead th {\n",
       "        text-align: right;\n",
       "    }\n",
       "</style>\n",
       "<table border=\"1\" class=\"dataframe\">\n",
       "  <thead>\n",
       "    <tr style=\"text-align: right;\">\n",
       "      <th></th>\n",
       "      <th>id</th>\n",
       "      <th>member_id</th>\n",
       "      <th>loan_amnt</th>\n",
       "      <th>funded_amnt</th>\n",
       "      <th>funded_amnt_inv</th>\n",
       "      <th>term</th>\n",
       "      <th>int_rate</th>\n",
       "      <th>installment</th>\n",
       "      <th>grade</th>\n",
       "      <th>sub_grade</th>\n",
       "      <th>...</th>\n",
       "      <th>sub_grade_num</th>\n",
       "      <th>delinq_2yrs_zero</th>\n",
       "      <th>pub_rec_zero</th>\n",
       "      <th>collections_12_mths_zero</th>\n",
       "      <th>short_emp</th>\n",
       "      <th>payment_inc_ratio</th>\n",
       "      <th>final_d</th>\n",
       "      <th>last_delinq_none</th>\n",
       "      <th>last_record_none</th>\n",
       "      <th>last_major_derog_none</th>\n",
       "    </tr>\n",
       "  </thead>\n",
       "  <tbody>\n",
       "    <tr>\n",
       "      <th>0</th>\n",
       "      <td>1077501</td>\n",
       "      <td>1296599</td>\n",
       "      <td>5000</td>\n",
       "      <td>5000</td>\n",
       "      <td>4975</td>\n",
       "      <td>36 months</td>\n",
       "      <td>10.65</td>\n",
       "      <td>162.87</td>\n",
       "      <td>B</td>\n",
       "      <td>B2</td>\n",
       "      <td>...</td>\n",
       "      <td>0.4</td>\n",
       "      <td>1.0</td>\n",
       "      <td>1.0</td>\n",
       "      <td>1.0</td>\n",
       "      <td>0</td>\n",
       "      <td>8.1435</td>\n",
       "      <td>20141201T000000</td>\n",
       "      <td>1</td>\n",
       "      <td>1</td>\n",
       "      <td>1</td>\n",
       "    </tr>\n",
       "    <tr>\n",
       "      <th>1</th>\n",
       "      <td>1077430</td>\n",
       "      <td>1314167</td>\n",
       "      <td>2500</td>\n",
       "      <td>2500</td>\n",
       "      <td>2500</td>\n",
       "      <td>60 months</td>\n",
       "      <td>15.27</td>\n",
       "      <td>59.83</td>\n",
       "      <td>C</td>\n",
       "      <td>C4</td>\n",
       "      <td>...</td>\n",
       "      <td>0.8</td>\n",
       "      <td>1.0</td>\n",
       "      <td>1.0</td>\n",
       "      <td>1.0</td>\n",
       "      <td>1</td>\n",
       "      <td>2.3932</td>\n",
       "      <td>20161201T000000</td>\n",
       "      <td>1</td>\n",
       "      <td>1</td>\n",
       "      <td>1</td>\n",
       "    </tr>\n",
       "  </tbody>\n",
       "</table>\n",
       "<p>2 rows × 68 columns</p>\n",
       "</div>"
      ],
      "text/plain": [
       "        id  member_id  loan_amnt  funded_amnt  funded_amnt_inv        term  \\\n",
       "0  1077501    1296599       5000         5000             4975   36 months   \n",
       "1  1077430    1314167       2500         2500             2500   60 months   \n",
       "\n",
       "   int_rate  installment grade sub_grade          ...          sub_grade_num  \\\n",
       "0     10.65       162.87     B        B2          ...                    0.4   \n",
       "1     15.27        59.83     C        C4          ...                    0.8   \n",
       "\n",
       "  delinq_2yrs_zero pub_rec_zero  collections_12_mths_zero short_emp  \\\n",
       "0              1.0          1.0                       1.0         0   \n",
       "1              1.0          1.0                       1.0         1   \n",
       "\n",
       "  payment_inc_ratio          final_d last_delinq_none last_record_none  \\\n",
       "0            8.1435  20141201T000000                1                1   \n",
       "1            2.3932  20161201T000000                1                1   \n",
       "\n",
       "  last_major_derog_none  \n",
       "0                     1  \n",
       "1                     1  \n",
       "\n",
       "[2 rows x 68 columns]"
      ]
     },
     "execution_count": 3,
     "metadata": {},
     "output_type": "execute_result"
    }
   ],
   "source": [
    "loans = pd.read_csv(\"lending-club-data.csv\")\n",
    "print(\"the shape of our data is: \" + str(loans.shape))\n",
    "loans.head(2)"
   ]
  },
  {
   "cell_type": "markdown",
   "metadata": {},
   "source": [
    "# Exploratory data analysis and data engineering"
   ]
  },
  {
   "cell_type": "markdown",
   "metadata": {},
   "source": [
    "re-code the label column as safe_loans"
   ]
  },
  {
   "cell_type": "code",
   "execution_count": 4,
   "metadata": {},
   "outputs": [],
   "source": [
    "loans['safe_loans'] = loans['bad_loans'].apply(lambda x : +1 if x == 0 else -1)\n",
    "loans = loans.drop(\"bad_loans\", axis = 1)"
   ]
  },
  {
   "cell_type": "code",
   "execution_count": 5,
   "metadata": {},
   "outputs": [
    {
     "data": {
      "text/plain": [
       "array(['id', 'member_id', 'loan_amnt', 'funded_amnt', 'funded_amnt_inv',\n",
       "       'term', 'int_rate', 'installment', 'grade', 'sub_grade',\n",
       "       'emp_title', 'emp_length', 'home_ownership', 'annual_inc',\n",
       "       'is_inc_v', 'issue_d', 'loan_status', 'pymnt_plan', 'url', 'desc',\n",
       "       'purpose', 'title', 'zip_code', 'addr_state', 'dti', 'delinq_2yrs',\n",
       "       'earliest_cr_line', 'inq_last_6mths', 'mths_since_last_delinq',\n",
       "       'mths_since_last_record', 'open_acc', 'pub_rec', 'revol_bal',\n",
       "       'revol_util', 'total_acc', 'initial_list_status', 'out_prncp',\n",
       "       'out_prncp_inv', 'total_pymnt', 'total_pymnt_inv',\n",
       "       'total_rec_prncp', 'total_rec_int', 'total_rec_late_fee',\n",
       "       'recoveries', 'collection_recovery_fee', 'last_pymnt_d',\n",
       "       'last_pymnt_amnt', 'next_pymnt_d', 'last_credit_pull_d',\n",
       "       'collections_12_mths_ex_med', 'mths_since_last_major_derog',\n",
       "       'policy_code', 'not_compliant', 'status', 'inactive_loans',\n",
       "       'emp_length_num', 'grade_num', 'sub_grade_num', 'delinq_2yrs_zero',\n",
       "       'pub_rec_zero', 'collections_12_mths_zero', 'short_emp',\n",
       "       'payment_inc_ratio', 'final_d', 'last_delinq_none',\n",
       "       'last_record_none', 'last_major_derog_none', 'safe_loans'],\n",
       "      dtype=object)"
      ]
     },
     "execution_count": 5,
     "metadata": {},
     "output_type": "execute_result"
    }
   ],
   "source": [
    "loans.columns.get_values()"
   ]
  },
  {
   "cell_type": "markdown",
   "metadata": {},
   "source": [
    "delete features that do not related to fraud loans; delete repeated columns"
   ]
  },
  {
   "cell_type": "code",
   "execution_count": 6,
   "metadata": {},
   "outputs": [],
   "source": [
    "loans = loans.drop([\"id\", \"member_id\", \"zip_code\",\"emp_title\", \"earliest_cr_line\",\"last_pymnt_d\", \"next_pymnt_d\", \n",
    "                    \"final_d\", \"issue_d\", \"url\", \"desc\",\"purpose\",\"title\",\"initial_list_status\",\"last_credit_pull_d\",\n",
    "                   \"addr_state\", \"collection_recovery_fee\",\"policy_code\"], axis = 1)\n",
    "loans = loans.drop([\"loan_amnt\",\"emp_length\",\"grade_num\", \"sub_grade_num\"],axis = 1)"
   ]
  },
  {
   "cell_type": "markdown",
   "metadata": {},
   "source": [
    "### depart the categorical variables and numeric variables, and analyse them seperately\n"
   ]
  },
  {
   "cell_type": "code",
   "execution_count": 7,
   "metadata": {},
   "outputs": [
    {
     "name": "stdout",
     "output_type": "stream",
     "text": [
      "categorical variables are: \n",
      "['term', 'grade', 'sub_grade', 'home_ownership', 'is_inc_v', 'loan_status', 'pymnt_plan', 'status']\n",
      "  \n",
      "numerical variables are: \n",
      "['funded_amnt', 'funded_amnt_inv', 'int_rate', 'installment', 'annual_inc', 'dti', 'delinq_2yrs', 'inq_last_6mths', 'mths_since_last_delinq', 'mths_since_last_record', 'open_acc', 'pub_rec', 'revol_bal', 'revol_util', 'total_acc', 'out_prncp', 'out_prncp_inv', 'total_pymnt', 'total_pymnt_inv', 'total_rec_prncp', 'total_rec_int', 'total_rec_late_fee', 'recoveries', 'last_pymnt_amnt', 'collections_12_mths_ex_med', 'mths_since_last_major_derog', 'not_compliant', 'inactive_loans', 'emp_length_num', 'delinq_2yrs_zero', 'pub_rec_zero', 'collections_12_mths_zero', 'short_emp', 'payment_inc_ratio', 'last_delinq_none', 'last_record_none', 'last_major_derog_none', 'safe_loans']\n"
     ]
    }
   ],
   "source": [
    "def depart_cate_number(data):\n",
    "    categorical_variables = []\n",
    "    numeric_variables = []\n",
    "    for feat_name, feat_type in zip(data.columns, data.dtypes):\n",
    "        if feat_type == \"float64\" or feat_type == \"int64\":\n",
    "            numeric_variables.append(feat_name)\n",
    "        else:\n",
    "            categorical_variables.append(feat_name)\n",
    "    return numeric_variables, categorical_variables\n",
    "numeric_variables, categorical_variables = depart_cate_number(loans)\n",
    "print(\"categorical variables are: \") \n",
    "print (categorical_variables)\n",
    "print(\"  \")\n",
    "print(\"numerical variables are: \")\n",
    "print(numeric_variables)"
   ]
  },
  {
   "cell_type": "markdown",
   "metadata": {},
   "source": [
    "### categorical variables"
   ]
  },
  {
   "cell_type": "markdown",
   "metadata": {},
   "source": [
    "first, let's take a closer look at the categorical values and their counts"
   ]
  },
  {
   "cell_type": "code",
   "execution_count": 8,
   "metadata": {},
   "outputs": [
    {
     "name": "stdout",
     "output_type": "stream",
     "text": [
      "-------------------\n",
      "for the feature: term\n",
      "[' 36 months', ' 60 months']\n",
      "[97801, 24806]\n",
      "-------------------\n",
      "for the feature: grade\n",
      "['A', 'B', 'C', 'D', 'E', 'F', 'G']\n",
      "[22314, 37172, 29950, 19175, 8990, 3932, 1074]\n",
      "-------------------\n",
      "for the feature: sub_grade\n",
      "['A1', 'A2', 'A3', 'A4', 'A5', 'B1', 'B2', 'B3', 'B4', 'B5', 'C1', 'C2', 'C3', 'C4', 'C5', 'D1', 'D2', 'D3', 'D4', 'D5', 'E1', 'E2', 'E3', 'E4', 'E5', 'F1', 'F2', 'F3', 'F4', 'F5', 'G1', 'G2', 'G3', 'G4', 'G5']\n",
      "[2987, 3352, 3955, 5993, 6027, 5837, 7096, 9036, 8279, 6924, 7068, 6726, 5690, 5402, 5064, 4593, 4391, 3745, 3489, 2957, 2080, 2184, 1785, 1581, 1360, 1105, 930, 770, 629, 498, 370, 241, 167, 152, 144]\n",
      "-------------------\n",
      "for the feature: home_ownership\n",
      "['MORTGAGE', 'OTHER', 'OWN', 'RENT']\n",
      "[59240, 179, 9943, 53245]\n",
      "-------------------\n",
      "for the feature: is_inc_v\n",
      "['Not Verified', 'Source Verified', 'Verified']\n",
      "[45751, 30766, 46090]\n",
      "-------------------\n",
      "for the feature: loan_status\n",
      "['Charged Off', 'Default', 'Does not meet the credit policy.  Status:Charged Off', 'Does not meet the credit policy.  Status:Fully Paid', 'Fully Paid']\n",
      "[22156, 239, 755, 1913, 97544]\n",
      "-------------------\n",
      "for the feature: pymnt_plan\n",
      "['n']\n",
      "[122607]\n",
      "-------------------\n",
      "for the feature: status\n",
      "['Charged Off', 'Default', 'Fully Paid']\n",
      "[22911, 239, 99457]\n"
     ]
    }
   ],
   "source": [
    "for feature in categorical_variables:\n",
    "    unique, count = np.unique(loans[feature], return_counts=True) \n",
    "    print(\"-------------------\")\n",
    "    print(\"for the feature: \" + str(feature))\n",
    "    print(list(unique))\n",
    "    print(list(count))"
   ]
  },
  {
   "cell_type": "markdown",
   "metadata": {},
   "source": [
    "According to the values and counts, we can see that \n",
    "- the column pymnt_plan only contain one value, so we can delete it\n",
    "- also, for the column \"status\" and \"loan_status\", they are sort of the fraud situation, so we may not get access to those information in the prediction period, so we will delete them to avoid look ahead bia"
   ]
  },
  {
   "cell_type": "code",
   "execution_count": 9,
   "metadata": {},
   "outputs": [],
   "source": [
    "loans = loans.drop([\"pymnt_plan\", \"status\", \"loan_status\"], axis = 1)"
   ]
  },
  {
   "cell_type": "markdown",
   "metadata": {},
   "source": [
    "### numeric_variables"
   ]
  },
  {
   "cell_type": "code",
   "execution_count": 10,
   "metadata": {},
   "outputs": [
    {
     "name": "stdout",
     "output_type": "stream",
     "text": [
      "<class 'pandas.core.frame.DataFrame'>\n",
      "RangeIndex: 122607 entries, 0 to 122606\n",
      "Data columns (total 38 columns):\n",
      "funded_amnt                    122607 non-null int64\n",
      "funded_amnt_inv                122607 non-null int64\n",
      "int_rate                       122607 non-null float64\n",
      "installment                    122607 non-null float64\n",
      "annual_inc                     122603 non-null float64\n",
      "dti                            122607 non-null float64\n",
      "delinq_2yrs                    122578 non-null float64\n",
      "inq_last_6mths                 122578 non-null float64\n",
      "mths_since_last_delinq         50500 non-null float64\n",
      "mths_since_last_record         12531 non-null float64\n",
      "open_acc                       122578 non-null float64\n",
      "pub_rec                        122578 non-null float64\n",
      "revol_bal                      122607 non-null int64\n",
      "revol_util                     122607 non-null float64\n",
      "total_acc                      122578 non-null float64\n",
      "out_prncp                      122607 non-null float64\n",
      "out_prncp_inv                  122607 non-null float64\n",
      "total_pymnt                    122607 non-null float64\n",
      "total_pymnt_inv                122607 non-null float64\n",
      "total_rec_prncp                122607 non-null float64\n",
      "total_rec_int                  122607 non-null float64\n",
      "total_rec_late_fee             122607 non-null float64\n",
      "recoveries                     122607 non-null float64\n",
      "last_pymnt_amnt                122607 non-null float64\n",
      "collections_12_mths_ex_med     122462 non-null float64\n",
      "mths_since_last_major_derog    15460 non-null float64\n",
      "not_compliant                  122607 non-null int64\n",
      "inactive_loans                 122607 non-null int64\n",
      "emp_length_num                 122607 non-null int64\n",
      "delinq_2yrs_zero               122578 non-null float64\n",
      "pub_rec_zero                   122578 non-null float64\n",
      "collections_12_mths_zero       122462 non-null float64\n",
      "short_emp                      122607 non-null int64\n",
      "payment_inc_ratio              122603 non-null float64\n",
      "last_delinq_none               122607 non-null int64\n",
      "last_record_none               122607 non-null int64\n",
      "last_major_derog_none          122607 non-null int64\n",
      "safe_loans                     122607 non-null int64\n",
      "dtypes: float64(27), int64(11)\n",
      "memory usage: 35.5 MB\n"
     ]
    }
   ],
   "source": [
    "loans[numeric_variables].info()"
   ]
  },
  {
   "cell_type": "markdown",
   "metadata": {},
   "source": [
    "#### for missing data: any significant relationship with fraud?"
   ]
  },
  {
   "cell_type": "code",
   "execution_count": 11,
   "metadata": {},
   "outputs": [
    {
     "data": {
      "text/plain": [
       "safe_loans\n",
       "-1    23150\n",
       " 1    99457\n",
       "Name: safe_loans, dtype: int64"
      ]
     },
     "execution_count": 11,
     "metadata": {},
     "output_type": "execute_result"
    }
   ],
   "source": [
    "loans.groupby(\"safe_loans\")[\"safe_loans\"].count()"
   ]
  },
  {
   "cell_type": "code",
   "execution_count": 12,
   "metadata": {},
   "outputs": [
    {
     "data": {
      "text/plain": [
       "mths_since_last_record  safe_loans\n",
       "False                   -1             2333\n",
       "                         1            10198\n",
       "True                    -1            20817\n",
       "                         1            89259\n",
       "Name: safe_loans, dtype: int64"
      ]
     },
     "execution_count": 12,
     "metadata": {},
     "output_type": "execute_result"
    }
   ],
   "source": [
    "na_mths_since_last_record = loans[\"mths_since_last_record\"].isnull()\n",
    "loans.groupby([na_mths_since_last_record,\"safe_loans\"])[\"safe_loans\"].count()"
   ]
  },
  {
   "cell_type": "code",
   "execution_count": 13,
   "metadata": {},
   "outputs": [
    {
     "data": {
      "text/plain": [
       "mths_since_last_delinq  safe_loans\n",
       "False                   -1             9617\n",
       "                         1            40883\n",
       "True                    -1            13533\n",
       "                         1            58574\n",
       "Name: safe_loans, dtype: int64"
      ]
     },
     "execution_count": 13,
     "metadata": {},
     "output_type": "execute_result"
    }
   ],
   "source": [
    "na_mths_since_last_delinq = loans[\"mths_since_last_delinq\"].isnull()\n",
    "loans.groupby([na_mths_since_last_delinq,\"safe_loans\"])[\"safe_loans\"].count()"
   ]
  },
  {
   "cell_type": "code",
   "execution_count": 14,
   "metadata": {},
   "outputs": [
    {
     "data": {
      "text/plain": [
       "mths_since_last_major_derog  safe_loans\n",
       "False                        -1             2881\n",
       "                              1            12579\n",
       "True                         -1            20269\n",
       "                              1            86878\n",
       "Name: safe_loans, dtype: int64"
      ]
     },
     "execution_count": 14,
     "metadata": {},
     "output_type": "execute_result"
    }
   ],
   "source": [
    "na_mths_since_last_major_derog = loans[\"mths_since_last_major_derog\"].isnull()\n",
    "loans.groupby([na_mths_since_last_major_derog,\"safe_loans\"])[\"safe_loans\"].count()"
   ]
  },
  {
   "cell_type": "markdown",
   "metadata": {},
   "source": [
    "we can see that the there is no significant relationship for safe/fraud loan and missing values, so we can just delete those columns with too much missing"
   ]
  },
  {
   "cell_type": "code",
   "execution_count": 15,
   "metadata": {},
   "outputs": [],
   "source": [
    "loans = loans.drop([\"mths_since_last_record\",\"mths_since_last_delinq\",\"mths_since_last_major_derog\"], axis = 1)"
   ]
  },
  {
   "cell_type": "markdown",
   "metadata": {},
   "source": [
    "#### how each numeric variables correlated?"
   ]
  },
  {
   "cell_type": "code",
   "execution_count": 16,
   "metadata": {},
   "outputs": [
    {
     "data": {
      "text/plain": [
       "<matplotlib.axes._subplots.AxesSubplot at 0x1a19699710>"
      ]
     },
     "execution_count": 16,
     "metadata": {},
     "output_type": "execute_result"
    },
    {
     "data": {
      "image/png": "[encoded data removed]",
      "text/plain": [
       "<Figure size 1080x1080 with 2 Axes>"
      ]
     },
     "metadata": {
      "needs_background": "light"
     },
     "output_type": "display_data"
    }
   ],
   "source": [
    "numeric_variables, categorical_variables = depart_cate_number(loans)\n",
    "covariance = loans[numeric_variables].corr()\n",
    "plt.figure(figsize = [15,15])\n",
    "sns.heatmap(covariance) "
   ]
  },
  {
   "cell_type": "code",
   "execution_count": 17,
   "metadata": {},
   "outputs": [
    {
     "data": {
      "text/plain": [
       "array([1])"
      ]
     },
     "execution_count": 17,
     "metadata": {},
     "output_type": "execute_result"
    }
   ],
   "source": [
    "# what is wrong with inactive_loans, which is perfectly correlated with all other features?\n",
    "loans[\"inactive_loans\"].unique()"
   ]
  },
  {
   "cell_type": "markdown",
   "metadata": {},
   "source": [
    "According to the loan features heatmap:\n",
    "- inactive_loans only contain one value and would provide no infomation, so delete it.\n",
    "- also, we can also detele the columns that are perfectly correlated"
   ]
  },
  {
   "cell_type": "code",
   "execution_count": 18,
   "metadata": {},
   "outputs": [],
   "source": [
    "loans = loans.drop([\"inactive_loans\",\"funded_amnt\",\"installment\",\"out_prncp\",\"total_pymnt\",\"total_pymnt_inv\",\n",
    "                \"delinq_2yrs\",\"pub_rec_zero\",\"collections_12_mths_ex_med\",\"last_record_none\",\"short_emp\"], axis = 1)"
   ]
  },
  {
   "cell_type": "markdown",
   "metadata": {},
   "source": [
    "Check the new numeric variables"
   ]
  },
  {
   "cell_type": "code",
   "execution_count": 19,
   "metadata": {},
   "outputs": [
    {
     "data": {
      "text/plain": [
       "<matplotlib.axes._subplots.AxesSubplot at 0x1a19bf32d0>"
      ]
     },
     "execution_count": 19,
     "metadata": {},
     "output_type": "execute_result"
    },
    {
     "data": {
      "image/png": "[encoded data removed]",
      "text/plain": [
       "<Figure size 720x720 with 2 Axes>"
      ]
     },
     "metadata": {
      "needs_background": "light"
     },
     "output_type": "display_data"
    }
   ],
   "source": [
    "numeric_variables, categorical_variables = depart_cate_number(loans)\n",
    "covariance = loans[numeric_variables].corr()\n",
    "plt.figure(figsize = [10,10])\n",
    "sns.heatmap(covariance)  "
   ]
  },
  {
   "cell_type": "markdown",
   "metadata": {},
   "source": [
    "- the corrrelation matrix looks good now\n",
    "- note the label column safe_loans: there is no feature that is very correlated with this column, which tells us that there is less probabiity of look ahead bia from these numberic features"
   ]
  },
  {
   "cell_type": "code",
   "execution_count": 20,
   "metadata": {},
   "outputs": [
    {
     "name": "stdout",
     "output_type": "stream",
     "text": [
      "['funded_amnt_inv', 'term', 'int_rate', 'grade', 'sub_grade', 'home_ownership', 'annual_inc', 'is_inc_v', 'dti', 'inq_last_6mths', 'open_acc', 'pub_rec', 'revol_bal', 'revol_util', 'total_acc', 'out_prncp_inv', 'total_rec_prncp', 'total_rec_int', 'total_rec_late_fee', 'recoveries', 'last_pymnt_amnt', 'not_compliant', 'emp_length_num', 'delinq_2yrs_zero', 'collections_12_mths_zero', 'payment_inc_ratio', 'last_delinq_none', 'last_major_derog_none']\n"
     ]
    },
    {
     "data": {
      "text/html": [
       "<div>\n",
       "<style scoped>\n",
       "    .dataframe tbody tr th:only-of-type {\n",
       "        vertical-align: middle;\n",
       "    }\n",
       "\n",
       "    .dataframe tbody tr th {\n",
       "        vertical-align: top;\n",
       "    }\n",
       "\n",
       "    .dataframe thead th {\n",
       "        text-align: right;\n",
       "    }\n",
       "</style>\n",
       "<table border=\"1\" class=\"dataframe\">\n",
       "  <thead>\n",
       "    <tr style=\"text-align: right;\">\n",
       "      <th></th>\n",
       "      <th>funded_amnt_inv</th>\n",
       "      <th>term</th>\n",
       "      <th>int_rate</th>\n",
       "      <th>grade</th>\n",
       "      <th>sub_grade</th>\n",
       "      <th>home_ownership</th>\n",
       "      <th>annual_inc</th>\n",
       "      <th>is_inc_v</th>\n",
       "      <th>dti</th>\n",
       "      <th>inq_last_6mths</th>\n",
       "      <th>...</th>\n",
       "      <th>recoveries</th>\n",
       "      <th>last_pymnt_amnt</th>\n",
       "      <th>not_compliant</th>\n",
       "      <th>emp_length_num</th>\n",
       "      <th>delinq_2yrs_zero</th>\n",
       "      <th>collections_12_mths_zero</th>\n",
       "      <th>payment_inc_ratio</th>\n",
       "      <th>last_delinq_none</th>\n",
       "      <th>last_major_derog_none</th>\n",
       "      <th>safe_loans</th>\n",
       "    </tr>\n",
       "  </thead>\n",
       "  <tbody>\n",
       "    <tr>\n",
       "      <th>0</th>\n",
       "      <td>4975</td>\n",
       "      <td>36 months</td>\n",
       "      <td>10.65</td>\n",
       "      <td>B</td>\n",
       "      <td>B2</td>\n",
       "      <td>RENT</td>\n",
       "      <td>24000.0</td>\n",
       "      <td>Verified</td>\n",
       "      <td>27.65</td>\n",
       "      <td>1.0</td>\n",
       "      <td>...</td>\n",
       "      <td>0.00</td>\n",
       "      <td>171.62</td>\n",
       "      <td>0</td>\n",
       "      <td>11</td>\n",
       "      <td>1.0</td>\n",
       "      <td>1.0</td>\n",
       "      <td>8.14350</td>\n",
       "      <td>1</td>\n",
       "      <td>1</td>\n",
       "      <td>1</td>\n",
       "    </tr>\n",
       "    <tr>\n",
       "      <th>1</th>\n",
       "      <td>2500</td>\n",
       "      <td>60 months</td>\n",
       "      <td>15.27</td>\n",
       "      <td>C</td>\n",
       "      <td>C4</td>\n",
       "      <td>RENT</td>\n",
       "      <td>30000.0</td>\n",
       "      <td>Source Verified</td>\n",
       "      <td>1.00</td>\n",
       "      <td>5.0</td>\n",
       "      <td>...</td>\n",
       "      <td>117.08</td>\n",
       "      <td>119.66</td>\n",
       "      <td>0</td>\n",
       "      <td>1</td>\n",
       "      <td>1.0</td>\n",
       "      <td>1.0</td>\n",
       "      <td>2.39320</td>\n",
       "      <td>1</td>\n",
       "      <td>1</td>\n",
       "      <td>-1</td>\n",
       "    </tr>\n",
       "    <tr>\n",
       "      <th>2</th>\n",
       "      <td>2400</td>\n",
       "      <td>36 months</td>\n",
       "      <td>15.96</td>\n",
       "      <td>C</td>\n",
       "      <td>C5</td>\n",
       "      <td>RENT</td>\n",
       "      <td>12252.0</td>\n",
       "      <td>Not Verified</td>\n",
       "      <td>8.72</td>\n",
       "      <td>2.0</td>\n",
       "      <td>...</td>\n",
       "      <td>0.00</td>\n",
       "      <td>649.91</td>\n",
       "      <td>0</td>\n",
       "      <td>11</td>\n",
       "      <td>1.0</td>\n",
       "      <td>1.0</td>\n",
       "      <td>8.25955</td>\n",
       "      <td>1</td>\n",
       "      <td>1</td>\n",
       "      <td>1</td>\n",
       "    </tr>\n",
       "    <tr>\n",
       "      <th>3</th>\n",
       "      <td>10000</td>\n",
       "      <td>36 months</td>\n",
       "      <td>13.49</td>\n",
       "      <td>C</td>\n",
       "      <td>C1</td>\n",
       "      <td>RENT</td>\n",
       "      <td>49200.0</td>\n",
       "      <td>Source Verified</td>\n",
       "      <td>20.00</td>\n",
       "      <td>1.0</td>\n",
       "      <td>...</td>\n",
       "      <td>0.00</td>\n",
       "      <td>357.48</td>\n",
       "      <td>0</td>\n",
       "      <td>11</td>\n",
       "      <td>1.0</td>\n",
       "      <td>1.0</td>\n",
       "      <td>8.27585</td>\n",
       "      <td>0</td>\n",
       "      <td>1</td>\n",
       "      <td>1</td>\n",
       "    </tr>\n",
       "    <tr>\n",
       "      <th>4</th>\n",
       "      <td>5000</td>\n",
       "      <td>36 months</td>\n",
       "      <td>7.90</td>\n",
       "      <td>A</td>\n",
       "      <td>A4</td>\n",
       "      <td>RENT</td>\n",
       "      <td>36000.0</td>\n",
       "      <td>Source Verified</td>\n",
       "      <td>11.20</td>\n",
       "      <td>3.0</td>\n",
       "      <td>...</td>\n",
       "      <td>0.00</td>\n",
       "      <td>161.03</td>\n",
       "      <td>0</td>\n",
       "      <td>4</td>\n",
       "      <td>1.0</td>\n",
       "      <td>1.0</td>\n",
       "      <td>5.21533</td>\n",
       "      <td>1</td>\n",
       "      <td>1</td>\n",
       "      <td>1</td>\n",
       "    </tr>\n",
       "  </tbody>\n",
       "</table>\n",
       "<p>5 rows × 29 columns</p>\n",
       "</div>"
      ],
      "text/plain": [
       "   funded_amnt_inv        term  int_rate grade sub_grade home_ownership  \\\n",
       "0             4975   36 months     10.65     B        B2           RENT   \n",
       "1             2500   60 months     15.27     C        C4           RENT   \n",
       "2             2400   36 months     15.96     C        C5           RENT   \n",
       "3            10000   36 months     13.49     C        C1           RENT   \n",
       "4             5000   36 months      7.90     A        A4           RENT   \n",
       "\n",
       "   annual_inc         is_inc_v    dti  inq_last_6mths     ...      recoveries  \\\n",
       "0     24000.0         Verified  27.65             1.0     ...            0.00   \n",
       "1     30000.0  Source Verified   1.00             5.0     ...          117.08   \n",
       "2     12252.0     Not Verified   8.72             2.0     ...            0.00   \n",
       "3     49200.0  Source Verified  20.00             1.0     ...            0.00   \n",
       "4     36000.0  Source Verified  11.20             3.0     ...            0.00   \n",
       "\n",
       "   last_pymnt_amnt  not_compliant  emp_length_num  delinq_2yrs_zero  \\\n",
       "0           171.62              0              11               1.0   \n",
       "1           119.66              0               1               1.0   \n",
       "2           649.91              0              11               1.0   \n",
       "3           357.48              0              11               1.0   \n",
       "4           161.03              0               4               1.0   \n",
       "\n",
       "   collections_12_mths_zero  payment_inc_ratio  last_delinq_none  \\\n",
       "0                       1.0            8.14350                 1   \n",
       "1                       1.0            2.39320                 1   \n",
       "2                       1.0            8.25955                 1   \n",
       "3                       1.0            8.27585                 0   \n",
       "4                       1.0            5.21533                 1   \n",
       "\n",
       "   last_major_derog_none  safe_loans  \n",
       "0                      1           1  \n",
       "1                      1          -1  \n",
       "2                      1           1  \n",
       "3                      1           1  \n",
       "4                      1           1  \n",
       "\n",
       "[5 rows x 29 columns]"
      ]
     },
     "execution_count": 20,
     "metadata": {},
     "output_type": "execute_result"
    }
   ],
   "source": [
    "# the final feature matrix\n",
    "feature_valuse = loans.drop(\"safe_loans\", axis = 1)\n",
    "related_features_list = list(feature_valuse.columns)\n",
    "print(related_features_list)\n",
    "loans.head()"
   ]
  },
  {
   "cell_type": "markdown",
   "metadata": {},
   "source": [
    "### missing data"
   ]
  },
  {
   "cell_type": "code",
   "execution_count": 21,
   "metadata": {},
   "outputs": [
    {
     "data": {
      "text/plain": [
       "funded_amnt_inv             0.000000\n",
       "term                        0.000000\n",
       "int_rate                    0.000000\n",
       "grade                       0.000000\n",
       "sub_grade                   0.000000\n",
       "home_ownership              0.000000\n",
       "annual_inc                  0.000033\n",
       "is_inc_v                    0.000000\n",
       "dti                         0.000000\n",
       "inq_last_6mths              0.000237\n",
       "open_acc                    0.000237\n",
       "pub_rec                     0.000237\n",
       "revol_bal                   0.000000\n",
       "revol_util                  0.000000\n",
       "total_acc                   0.000237\n",
       "out_prncp_inv               0.000000\n",
       "total_rec_prncp             0.000000\n",
       "total_rec_int               0.000000\n",
       "total_rec_late_fee          0.000000\n",
       "recoveries                  0.000000\n",
       "last_pymnt_amnt             0.000000\n",
       "not_compliant               0.000000\n",
       "emp_length_num              0.000000\n",
       "delinq_2yrs_zero            0.000237\n",
       "collections_12_mths_zero    0.001183\n",
       "payment_inc_ratio           0.000033\n",
       "last_delinq_none            0.000000\n",
       "last_major_derog_none       0.000000\n",
       "safe_loans                  0.000000\n",
       "dtype: float64"
      ]
     },
     "execution_count": 21,
     "metadata": {},
     "output_type": "execute_result"
    }
   ],
   "source": [
    "# how many missing values ?\n",
    "loans.isnull().mean(axis = 0)"
   ]
  },
  {
   "cell_type": "markdown",
   "metadata": {},
   "source": [
    "only serval columns contain few missing value, so I think it is fine to just drop those obervations\n"
   ]
  },
  {
   "cell_type": "code",
   "execution_count": 22,
   "metadata": {},
   "outputs": [
    {
     "name": "stdout",
     "output_type": "stream",
     "text": [
      "the data shape before dropping missing value: (122607, 29)\n",
      "the data shape after dropping missing value:  (122462, 29)\n"
     ]
    }
   ],
   "source": [
    "print(\"the data shape before dropping missing value: \" + str(loans.shape))\n",
    "loans = loans.dropna(axis = 0)\n",
    "print(\"the data shape after dropping missing value:  \" + str(loans.shape))"
   ]
  },
  {
   "cell_type": "markdown",
   "metadata": {},
   "source": [
    "### one-hot encoding: encode string columns into numeric or dummy variables here"
   ]
  },
  {
   "cell_type": "code",
   "execution_count": 23,
   "metadata": {},
   "outputs": [
    {
     "name": "stdout",
     "output_type": "stream",
     "text": [
      "the nember of categorical feature is:    5\n",
      "the new added one-hot data shape is:   (122462, 51)\n",
      "the all data shape with one-hot data is:(122462, 75)\n"
     ]
    }
   ],
   "source": [
    "numeric_variables, categorical_variables = depart_cate_number(loans)\n",
    "print(\"the nember of categorical feature is:    \" + str(len(categorical_variables)))\n",
    "all_one_hot = pd.DataFrame(index = loans.index)\n",
    "for variable in categorical_variables:\n",
    "    one_hot = pd.get_dummies(loans[variable])\n",
    "    all_one_hot = pd.concat([all_one_hot, one_hot], axis = 1)\n",
    "all_data = loans.drop(categorical_variables, axis = 1)\n",
    "all_data = pd.concat([all_data,all_one_hot], axis = 1)\n",
    "print(\"the new added one-hot data shape is:   \" + str(all_one_hot.shape))\n",
    "print(\"the all data shape with one-hot data is:\" + str(all_data.shape))"
   ]
  },
  {
   "cell_type": "markdown",
   "metadata": {},
   "source": [
    "29 + 51 - 5 = 75, the number of columns make sense"
   ]
  },
  {
   "cell_type": "code",
   "execution_count": 24,
   "metadata": {},
   "outputs": [
    {
     "name": "stdout",
     "output_type": "stream",
     "text": [
      "['funded_amnt_inv', 'int_rate', 'annual_inc', 'dti', 'inq_last_6mths', 'open_acc', 'pub_rec', 'revol_bal', 'revol_util', 'total_acc', 'out_prncp_inv', 'total_rec_prncp', 'total_rec_int', 'total_rec_late_fee', 'recoveries', 'last_pymnt_amnt', 'not_compliant', 'emp_length_num', 'delinq_2yrs_zero', 'collections_12_mths_zero', 'payment_inc_ratio', 'last_delinq_none', 'last_major_derog_none', ' 36 months', ' 60 months', 'A', 'B', 'C', 'D', 'E', 'F', 'G', 'A1', 'A2', 'A3', 'A4', 'A5', 'B1', 'B2', 'B3', 'B4', 'B5', 'C1', 'C2', 'C3', 'C4', 'C5', 'D1', 'D2', 'D3', 'D4', 'D5', 'E1', 'E2', 'E3', 'E4', 'E5', 'F1', 'F2', 'F3', 'F4', 'F5', 'G1', 'G2', 'G3', 'G4', 'G5', 'MORTGAGE', 'OTHER', 'OWN', 'RENT', 'Not Verified', 'Source Verified', 'Verified']\n",
      "74\n"
     ]
    },
    {
     "data": {
      "text/html": [
       "<div>\n",
       "<style scoped>\n",
       "    .dataframe tbody tr th:only-of-type {\n",
       "        vertical-align: middle;\n",
       "    }\n",
       "\n",
       "    .dataframe tbody tr th {\n",
       "        vertical-align: top;\n",
       "    }\n",
       "\n",
       "    .dataframe thead th {\n",
       "        text-align: right;\n",
       "    }\n",
       "</style>\n",
       "<table border=\"1\" class=\"dataframe\">\n",
       "  <thead>\n",
       "    <tr style=\"text-align: right;\">\n",
       "      <th></th>\n",
       "      <th>funded_amnt_inv</th>\n",
       "      <th>int_rate</th>\n",
       "      <th>annual_inc</th>\n",
       "      <th>dti</th>\n",
       "      <th>inq_last_6mths</th>\n",
       "      <th>open_acc</th>\n",
       "      <th>pub_rec</th>\n",
       "      <th>revol_bal</th>\n",
       "      <th>revol_util</th>\n",
       "      <th>total_acc</th>\n",
       "      <th>...</th>\n",
       "      <th>G3</th>\n",
       "      <th>G4</th>\n",
       "      <th>G5</th>\n",
       "      <th>MORTGAGE</th>\n",
       "      <th>OTHER</th>\n",
       "      <th>OWN</th>\n",
       "      <th>RENT</th>\n",
       "      <th>Not Verified</th>\n",
       "      <th>Source Verified</th>\n",
       "      <th>Verified</th>\n",
       "    </tr>\n",
       "  </thead>\n",
       "  <tbody>\n",
       "    <tr>\n",
       "      <th>0</th>\n",
       "      <td>4975</td>\n",
       "      <td>10.65</td>\n",
       "      <td>24000.0</td>\n",
       "      <td>27.65</td>\n",
       "      <td>1.0</td>\n",
       "      <td>3.0</td>\n",
       "      <td>0.0</td>\n",
       "      <td>13648</td>\n",
       "      <td>83.7</td>\n",
       "      <td>9.0</td>\n",
       "      <td>...</td>\n",
       "      <td>0</td>\n",
       "      <td>0</td>\n",
       "      <td>0</td>\n",
       "      <td>0</td>\n",
       "      <td>0</td>\n",
       "      <td>0</td>\n",
       "      <td>1</td>\n",
       "      <td>0</td>\n",
       "      <td>0</td>\n",
       "      <td>1</td>\n",
       "    </tr>\n",
       "    <tr>\n",
       "      <th>1</th>\n",
       "      <td>2500</td>\n",
       "      <td>15.27</td>\n",
       "      <td>30000.0</td>\n",
       "      <td>1.00</td>\n",
       "      <td>5.0</td>\n",
       "      <td>3.0</td>\n",
       "      <td>0.0</td>\n",
       "      <td>1687</td>\n",
       "      <td>9.4</td>\n",
       "      <td>4.0</td>\n",
       "      <td>...</td>\n",
       "      <td>0</td>\n",
       "      <td>0</td>\n",
       "      <td>0</td>\n",
       "      <td>0</td>\n",
       "      <td>0</td>\n",
       "      <td>0</td>\n",
       "      <td>1</td>\n",
       "      <td>0</td>\n",
       "      <td>1</td>\n",
       "      <td>0</td>\n",
       "    </tr>\n",
       "    <tr>\n",
       "      <th>2</th>\n",
       "      <td>2400</td>\n",
       "      <td>15.96</td>\n",
       "      <td>12252.0</td>\n",
       "      <td>8.72</td>\n",
       "      <td>2.0</td>\n",
       "      <td>2.0</td>\n",
       "      <td>0.0</td>\n",
       "      <td>2956</td>\n",
       "      <td>98.5</td>\n",
       "      <td>10.0</td>\n",
       "      <td>...</td>\n",
       "      <td>0</td>\n",
       "      <td>0</td>\n",
       "      <td>0</td>\n",
       "      <td>0</td>\n",
       "      <td>0</td>\n",
       "      <td>0</td>\n",
       "      <td>1</td>\n",
       "      <td>1</td>\n",
       "      <td>0</td>\n",
       "      <td>0</td>\n",
       "    </tr>\n",
       "    <tr>\n",
       "      <th>3</th>\n",
       "      <td>10000</td>\n",
       "      <td>13.49</td>\n",
       "      <td>49200.0</td>\n",
       "      <td>20.00</td>\n",
       "      <td>1.0</td>\n",
       "      <td>10.0</td>\n",
       "      <td>0.0</td>\n",
       "      <td>5598</td>\n",
       "      <td>21.0</td>\n",
       "      <td>37.0</td>\n",
       "      <td>...</td>\n",
       "      <td>0</td>\n",
       "      <td>0</td>\n",
       "      <td>0</td>\n",
       "      <td>0</td>\n",
       "      <td>0</td>\n",
       "      <td>0</td>\n",
       "      <td>1</td>\n",
       "      <td>0</td>\n",
       "      <td>1</td>\n",
       "      <td>0</td>\n",
       "    </tr>\n",
       "    <tr>\n",
       "      <th>4</th>\n",
       "      <td>5000</td>\n",
       "      <td>7.90</td>\n",
       "      <td>36000.0</td>\n",
       "      <td>11.20</td>\n",
       "      <td>3.0</td>\n",
       "      <td>9.0</td>\n",
       "      <td>0.0</td>\n",
       "      <td>7963</td>\n",
       "      <td>28.3</td>\n",
       "      <td>12.0</td>\n",
       "      <td>...</td>\n",
       "      <td>0</td>\n",
       "      <td>0</td>\n",
       "      <td>0</td>\n",
       "      <td>0</td>\n",
       "      <td>0</td>\n",
       "      <td>0</td>\n",
       "      <td>1</td>\n",
       "      <td>0</td>\n",
       "      <td>1</td>\n",
       "      <td>0</td>\n",
       "    </tr>\n",
       "  </tbody>\n",
       "</table>\n",
       "<p>5 rows × 75 columns</p>\n",
       "</div>"
      ],
      "text/plain": [
       "   funded_amnt_inv  int_rate  annual_inc    dti  inq_last_6mths  open_acc  \\\n",
       "0             4975     10.65     24000.0  27.65             1.0       3.0   \n",
       "1             2500     15.27     30000.0   1.00             5.0       3.0   \n",
       "2             2400     15.96     12252.0   8.72             2.0       2.0   \n",
       "3            10000     13.49     49200.0  20.00             1.0      10.0   \n",
       "4             5000      7.90     36000.0  11.20             3.0       9.0   \n",
       "\n",
       "   pub_rec  revol_bal  revol_util  total_acc    ...     G3  G4  G5  MORTGAGE  \\\n",
       "0      0.0      13648        83.7        9.0    ...      0   0   0         0   \n",
       "1      0.0       1687         9.4        4.0    ...      0   0   0         0   \n",
       "2      0.0       2956        98.5       10.0    ...      0   0   0         0   \n",
       "3      0.0       5598        21.0       37.0    ...      0   0   0         0   \n",
       "4      0.0       7963        28.3       12.0    ...      0   0   0         0   \n",
       "\n",
       "   OTHER  OWN  RENT  Not Verified  Source Verified  Verified  \n",
       "0      0    0     1             0                0         1  \n",
       "1      0    0     1             0                1         0  \n",
       "2      0    0     1             1                0         0  \n",
       "3      0    0     1             0                1         0  \n",
       "4      0    0     1             0                1         0  \n",
       "\n",
       "[5 rows x 75 columns]"
      ]
     },
     "execution_count": 24,
     "metadata": {},
     "output_type": "execute_result"
    }
   ],
   "source": [
    "# extract the feature name list perparing for the future uesage\n",
    "all_feature_list = list(all_data.drop(\"safe_loans\", axis = 1).columns.get_values())\n",
    "print(all_feature_list)\n",
    "print(len(all_feature_list))\n",
    "all_data.head()"
   ]
  },
  {
   "cell_type": "markdown",
   "metadata": {},
   "source": [
    "### train test split, with test size = 0.2"
   ]
  },
  {
   "cell_type": "code",
   "execution_count": 25,
   "metadata": {},
   "outputs": [
    {
     "name": "stdout",
     "output_type": "stream",
     "text": [
      "the shape of the train data is: (97969, 75)\n",
      "the shape of thetest data is:   (24493, 75)\n"
     ]
    }
   ],
   "source": [
    "train ,test = train_test_split(all_data,test_size=0.2) \n",
    "print (\"the shape of the train data is: \" + str(train.shape))\n",
    "print (\"the shape of thetest data is:   \" + str(test.shape))"
   ]
  },
  {
   "cell_type": "markdown",
   "metadata": {},
   "source": [
    "### the issue of imbalanced data"
   ]
  },
  {
   "cell_type": "code",
   "execution_count": 41,
   "metadata": {},
   "outputs": [
    {
     "name": "stdout",
     "output_type": "stream",
     "text": [
      "the imbalanced ratio of our dataset is: 0.232438484376\n",
      "the shape of our dataset is: (97969, 75)\n"
     ]
    },
    {
     "data": {
      "text/plain": [
       "<matplotlib.axes._subplots.AxesSubplot at 0x1a2089abd0>"
      ]
     },
     "execution_count": 41,
     "metadata": {},
     "output_type": "execute_result"
    },
    {
     "data": {
      "image/png": "[encoded data removed]",
      "text/plain": [
       "<Figure size 432x288 with 1 Axes>"
      ]
     },
     "metadata": {
      "needs_background": "light"
     },
     "output_type": "display_data"
    }
   ],
   "source": [
    "# take a look at the imbalanced ratio\n",
    "train_imbalanced_rat = len(train[train[\"safe_loans\"] == -1])/np.float(len(train[train[\"safe_loans\"] == 1]))\n",
    "print (\"the imbalanced ratio of our dataset is: \" + str(train_imbalanced_rat))\n",
    "print(\"the shape of our dataset is: \" + str(train.shape))\n",
    "sns.countplot(train[\"safe_loans\"])"
   ]
  },
  {
   "cell_type": "markdown",
   "metadata": {},
   "source": [
    "use SMOTE (Synthetic Minority Over-Sampling Technique) method to deal with the imbalance in training data"
   ]
  },
  {
   "cell_type": "code",
   "execution_count": 27,
   "metadata": {},
   "outputs": [
    {
     "name": "stdout",
     "output_type": "stream",
     "text": [
      "the shape of the dataset after balance is: (158984, 75)\n"
     ]
    },
    {
     "data": {
      "text/plain": [
       "<matplotlib.axes._subplots.AxesSubplot at 0x1a19e74950>"
      ]
     },
     "execution_count": 27,
     "metadata": {},
     "output_type": "execute_result"
    },
    {
     "data": {
      "image/png": "[encoded data removed]",
      "text/plain": [
       "<Figure size 432x288 with 1 Axes>"
      ]
     },
     "metadata": {
      "needs_background": "light"
     },
     "output_type": "display_data"
    }
   ],
   "source": [
    "smote = SMOTE(random_state=0)\n",
    "x_reb,y_reb=smote.fit_sample(train[all_feature_list],train[\"safe_loans\"])\n",
    "balance_train = pd.DataFrame(x_reb, columns=all_feature_list)\n",
    "balance_train[\"safe_loans\"] = y_reb\n",
    "print(\"the shape of the dataset after balance is: \" + str(balance_train.shape))\n",
    "sns.countplot(balance_train[\"safe_loans\"])"
   ]
  },
  {
   "cell_type": "markdown",
   "metadata": {},
   "source": [
    "# to sum up: our train and teat data are:"
   ]
  },
  {
   "cell_type": "code",
   "execution_count": 28,
   "metadata": {},
   "outputs": [
    {
     "data": {
      "text/html": [
       "<div>\n",
       "<style scoped>\n",
       "    .dataframe tbody tr th:only-of-type {\n",
       "        vertical-align: middle;\n",
       "    }\n",
       "\n",
       "    .dataframe tbody tr th {\n",
       "        vertical-align: top;\n",
       "    }\n",
       "\n",
       "    .dataframe thead th {\n",
       "        text-align: right;\n",
       "    }\n",
       "</style>\n",
       "<table border=\"1\" class=\"dataframe\">\n",
       "  <thead>\n",
       "    <tr style=\"text-align: right;\">\n",
       "      <th></th>\n",
       "      <th>funded_amnt_inv</th>\n",
       "      <th>int_rate</th>\n",
       "      <th>annual_inc</th>\n",
       "      <th>dti</th>\n",
       "      <th>inq_last_6mths</th>\n",
       "      <th>open_acc</th>\n",
       "      <th>pub_rec</th>\n",
       "      <th>revol_bal</th>\n",
       "      <th>revol_util</th>\n",
       "      <th>total_acc</th>\n",
       "      <th>...</th>\n",
       "      <th>G4</th>\n",
       "      <th>G5</th>\n",
       "      <th>MORTGAGE</th>\n",
       "      <th>OTHER</th>\n",
       "      <th>OWN</th>\n",
       "      <th>RENT</th>\n",
       "      <th>Not Verified</th>\n",
       "      <th>Source Verified</th>\n",
       "      <th>Verified</th>\n",
       "      <th>safe_loans</th>\n",
       "    </tr>\n",
       "  </thead>\n",
       "  <tbody>\n",
       "    <tr>\n",
       "      <th>0</th>\n",
       "      <td>6000.0</td>\n",
       "      <td>12.42</td>\n",
       "      <td>37500.0</td>\n",
       "      <td>24.99</td>\n",
       "      <td>1.0</td>\n",
       "      <td>9.0</td>\n",
       "      <td>0.0</td>\n",
       "      <td>9053.0</td>\n",
       "      <td>51.5</td>\n",
       "      <td>17.0</td>\n",
       "      <td>...</td>\n",
       "      <td>0.0</td>\n",
       "      <td>0.0</td>\n",
       "      <td>0.0</td>\n",
       "      <td>0.0</td>\n",
       "      <td>0.0</td>\n",
       "      <td>1.0</td>\n",
       "      <td>0.0</td>\n",
       "      <td>0.0</td>\n",
       "      <td>1.0</td>\n",
       "      <td>1</td>\n",
       "    </tr>\n",
       "    <tr>\n",
       "      <th>1</th>\n",
       "      <td>4000.0</td>\n",
       "      <td>14.96</td>\n",
       "      <td>50000.0</td>\n",
       "      <td>7.80</td>\n",
       "      <td>0.0</td>\n",
       "      <td>4.0</td>\n",
       "      <td>0.0</td>\n",
       "      <td>4550.0</td>\n",
       "      <td>22.3</td>\n",
       "      <td>15.0</td>\n",
       "      <td>...</td>\n",
       "      <td>0.0</td>\n",
       "      <td>0.0</td>\n",
       "      <td>0.0</td>\n",
       "      <td>0.0</td>\n",
       "      <td>0.0</td>\n",
       "      <td>1.0</td>\n",
       "      <td>1.0</td>\n",
       "      <td>0.0</td>\n",
       "      <td>0.0</td>\n",
       "      <td>1</td>\n",
       "    </tr>\n",
       "  </tbody>\n",
       "</table>\n",
       "<p>2 rows × 75 columns</p>\n",
       "</div>"
      ],
      "text/plain": [
       "   funded_amnt_inv  int_rate  annual_inc    dti  inq_last_6mths  open_acc  \\\n",
       "0           6000.0     12.42     37500.0  24.99             1.0       9.0   \n",
       "1           4000.0     14.96     50000.0   7.80             0.0       4.0   \n",
       "\n",
       "   pub_rec  revol_bal  revol_util  total_acc     ...       G4   G5  MORTGAGE  \\\n",
       "0      0.0     9053.0        51.5       17.0     ...      0.0  0.0       0.0   \n",
       "1      0.0     4550.0        22.3       15.0     ...      0.0  0.0       0.0   \n",
       "\n",
       "   OTHER  OWN  RENT  Not Verified  Source Verified  Verified  safe_loans  \n",
       "0    0.0  0.0   1.0           0.0              0.0       1.0           1  \n",
       "1    0.0  0.0   1.0           1.0              0.0       0.0           1  \n",
       "\n",
       "[2 rows x 75 columns]"
      ]
     },
     "execution_count": 28,
     "metadata": {},
     "output_type": "execute_result"
    }
   ],
   "source": [
    "balance_train.head(2)"
   ]
  },
  {
   "cell_type": "code",
   "execution_count": 29,
   "metadata": {},
   "outputs": [
    {
     "data": {
      "text/html": [
       "<div>\n",
       "<style scoped>\n",
       "    .dataframe tbody tr th:only-of-type {\n",
       "        vertical-align: middle;\n",
       "    }\n",
       "\n",
       "    .dataframe tbody tr th {\n",
       "        vertical-align: top;\n",
       "    }\n",
       "\n",
       "    .dataframe thead th {\n",
       "        text-align: right;\n",
       "    }\n",
       "</style>\n",
       "<table border=\"1\" class=\"dataframe\">\n",
       "  <thead>\n",
       "    <tr style=\"text-align: right;\">\n",
       "      <th></th>\n",
       "      <th>funded_amnt_inv</th>\n",
       "      <th>int_rate</th>\n",
       "      <th>annual_inc</th>\n",
       "      <th>dti</th>\n",
       "      <th>inq_last_6mths</th>\n",
       "      <th>open_acc</th>\n",
       "      <th>pub_rec</th>\n",
       "      <th>revol_bal</th>\n",
       "      <th>revol_util</th>\n",
       "      <th>total_acc</th>\n",
       "      <th>...</th>\n",
       "      <th>G3</th>\n",
       "      <th>G4</th>\n",
       "      <th>G5</th>\n",
       "      <th>MORTGAGE</th>\n",
       "      <th>OTHER</th>\n",
       "      <th>OWN</th>\n",
       "      <th>RENT</th>\n",
       "      <th>Not Verified</th>\n",
       "      <th>Source Verified</th>\n",
       "      <th>Verified</th>\n",
       "    </tr>\n",
       "  </thead>\n",
       "  <tbody>\n",
       "    <tr>\n",
       "      <th>14802</th>\n",
       "      <td>10000</td>\n",
       "      <td>13.06</td>\n",
       "      <td>204000.0</td>\n",
       "      <td>19.28</td>\n",
       "      <td>0.0</td>\n",
       "      <td>17.0</td>\n",
       "      <td>0.0</td>\n",
       "      <td>43128</td>\n",
       "      <td>67.8</td>\n",
       "      <td>26.0</td>\n",
       "      <td>...</td>\n",
       "      <td>0</td>\n",
       "      <td>0</td>\n",
       "      <td>0</td>\n",
       "      <td>1</td>\n",
       "      <td>0</td>\n",
       "      <td>0</td>\n",
       "      <td>0</td>\n",
       "      <td>0</td>\n",
       "      <td>0</td>\n",
       "      <td>1</td>\n",
       "    </tr>\n",
       "    <tr>\n",
       "      <th>10564</th>\n",
       "      <td>34975</td>\n",
       "      <td>15.23</td>\n",
       "      <td>94000.0</td>\n",
       "      <td>13.49</td>\n",
       "      <td>1.0</td>\n",
       "      <td>8.0</td>\n",
       "      <td>0.0</td>\n",
       "      <td>37120</td>\n",
       "      <td>70.2</td>\n",
       "      <td>20.0</td>\n",
       "      <td>...</td>\n",
       "      <td>0</td>\n",
       "      <td>0</td>\n",
       "      <td>0</td>\n",
       "      <td>1</td>\n",
       "      <td>0</td>\n",
       "      <td>0</td>\n",
       "      <td>0</td>\n",
       "      <td>0</td>\n",
       "      <td>1</td>\n",
       "      <td>0</td>\n",
       "    </tr>\n",
       "  </tbody>\n",
       "</table>\n",
       "<p>2 rows × 75 columns</p>\n",
       "</div>"
      ],
      "text/plain": [
       "       funded_amnt_inv  int_rate  annual_inc    dti  inq_last_6mths  open_acc  \\\n",
       "14802            10000     13.06    204000.0  19.28             0.0      17.0   \n",
       "10564            34975     15.23     94000.0  13.49             1.0       8.0   \n",
       "\n",
       "       pub_rec  revol_bal  revol_util  total_acc    ...     G3  G4  G5  \\\n",
       "14802      0.0      43128        67.8       26.0    ...      0   0   0   \n",
       "10564      0.0      37120        70.2       20.0    ...      0   0   0   \n",
       "\n",
       "       MORTGAGE  OTHER  OWN  RENT  Not Verified  Source Verified  Verified  \n",
       "14802         1      0    0     0             0                0         1  \n",
       "10564         1      0    0     0             0                1         0  \n",
       "\n",
       "[2 rows x 75 columns]"
      ]
     },
     "execution_count": 29,
     "metadata": {},
     "output_type": "execute_result"
    }
   ],
   "source": [
    "test.head(2)"
   ]
  },
  {
   "cell_type": "code",
   "execution_count": 30,
   "metadata": {},
   "outputs": [
    {
     "name": "stdout",
     "output_type": "stream",
     "text": [
      "['funded_amnt_inv', 'int_rate', 'annual_inc', 'dti', 'inq_last_6mths', 'open_acc', 'pub_rec', 'revol_bal', 'revol_util', 'total_acc', 'out_prncp_inv', 'total_rec_prncp', 'total_rec_int', 'total_rec_late_fee', 'recoveries', 'last_pymnt_amnt', 'not_compliant', 'emp_length_num', 'delinq_2yrs_zero', 'collections_12_mths_zero', 'payment_inc_ratio', 'last_delinq_none', 'last_major_derog_none', ' 36 months', ' 60 months', 'A', 'B', 'C', 'D', 'E', 'F', 'G', 'A1', 'A2', 'A3', 'A4', 'A5', 'B1', 'B2', 'B3', 'B4', 'B5', 'C1', 'C2', 'C3', 'C4', 'C5', 'D1', 'D2', 'D3', 'D4', 'D5', 'E1', 'E2', 'E3', 'E4', 'E5', 'F1', 'F2', 'F3', 'F4', 'F5', 'G1', 'G2', 'G3', 'G4', 'G5', 'MORTGAGE', 'OTHER', 'OWN', 'RENT', 'Not Verified', 'Source Verified', 'Verified']\n"
     ]
    }
   ],
   "source": [
    "print all_feature_list"
   ]
  },
  {
   "cell_type": "markdown",
   "metadata": {},
   "source": [
    "# useful functions"
   ]
  },
  {
   "cell_type": "code",
   "execution_count": 31,
   "metadata": {},
   "outputs": [],
   "source": [
    "# the function to draw a AUC curve\n",
    "def auc_curve(model):\n",
    "    probs = model.predict_proba(test[all_feature_list])[:,1]\n",
    "    fpr, tpr, threshold = sklearn.metrics.roc_curve(np.array(test[\"safe_loans\"]), probs)\n",
    "    roc_auc = sklearn.metrics.auc(fpr, tpr)\n",
    "    plt.plot(fpr, tpr, 'b', label = 'AUC = %0.2f' % roc_auc)\n",
    "    plt.title('ROC curve')\n",
    "    plt.legend()\n",
    "    plt.ylabel('True Positive Rate')\n",
    "    plt.xlabel('False Positive Rate')\n",
    "    plt.show()"
   ]
  },
  {
   "cell_type": "code",
   "execution_count": 32,
   "metadata": {},
   "outputs": [],
   "source": [
    "def confusion_matrix_func(true, prediction):\n",
    "    data = sklearn.metrics.confusion_matrix(true,prediction)\n",
    "    confusion_matrix = pd.DataFrame(data, index = [\"true = -1\",\"true = 1\"], \n",
    "                                    columns = [\"predicted = -1\", \"predicted = 1\"])\n",
    "    precision = confusion_matrix.iloc[1,1] / np.float(confusion_matrix[\"predicted = 1\"].sum())\n",
    "    recall = confusion_matrix.iloc[1,1] / np.float(confusion_matrix.loc[\"true = 1\"].sum())\n",
    "    return confusion_matrix, precision, recall"
   ]
  },
  {
   "cell_type": "markdown",
   "metadata": {},
   "source": [
    "# Implement different models"
   ]
  },
  {
   "cell_type": "markdown",
   "metadata": {},
   "source": [
    "## Base line model"
   ]
  },
  {
   "cell_type": "markdown",
   "metadata": {},
   "source": [
    "Without implement any prediction model, we would guess the loan with its majority class, which is a \"safe loan\""
   ]
  },
  {
   "cell_type": "code",
   "execution_count": 43,
   "metadata": {},
   "outputs": [
    {
     "data": {
      "text/plain": [
       "0.7672438091403262"
      ]
     },
     "execution_count": 43,
     "metadata": {},
     "output_type": "execute_result"
    }
   ],
   "source": [
    "1 - len(all_data[all_data[\"safe_loans\"] == -1])/np.float(len(all_data[all_data[\"safe_loans\"] == 1]))"
   ]
  },
  {
   "cell_type": "markdown",
   "metadata": {},
   "source": [
    "The accuracy of this majority guess is 76.72%, that is to say, our model accuracy should be at least better that 76.72%, or it is meaningless "
   ]
  },
  {
   "cell_type": "markdown",
   "metadata": {},
   "source": [
    "## model 1: logistic model"
   ]
  },
  {
   "cell_type": "markdown",
   "metadata": {},
   "source": [
    "#### choosing the best tuning parameter"
   ]
  },
  {
   "cell_type": "code",
   "execution_count": null,
   "metadata": {},
   "outputs": [],
   "source": [
    "parameters = {'C': np.linspace(1, 20, 10)}\n",
    "lr = LogisticRegression()\n",
    "clf = GridSearchCV(lr, parameters, cv=5, verbose=1, n_jobs=3, scoring='roc_auc')\n",
    "clf.fit(train[all_feature_list], balance_train[\"safe_loans\"])"
   ]
  },
  {
   "cell_type": "code",
   "execution_count": null,
   "metadata": {},
   "outputs": [],
   "source": [
    "clf.best_params_"
   ]
  },
  {
   "cell_type": "code",
   "execution_count": 33,
   "metadata": {},
   "outputs": [
    {
     "name": "stdout",
     "output_type": "stream",
     "text": [
      "0.0062396215971418645\n",
      "0.0043685951088066055\n"
     ]
    }
   ],
   "source": [
    "classifier = LogisticRegression(C = 9.44) \n",
    "classifier.fit(balance_train[all_feature_list], balance_train[\"safe_loans\"]) \n",
    "train_error = 1- (classifier.score(balance_train[all_feature_list],balance_train[\"safe_loans\"]))\n",
    "print train_error\n",
    "test_error = 1 - (classifier.score(test[all_feature_list],test[\"safe_loans\"]))\n",
    "print test_error"
   ]
  },
  {
   "cell_type": "code",
   "execution_count": 34,
   "metadata": {},
   "outputs": [
    {
     "data": {
      "text/plain": [
       "(           predicted = -1  predicted = 1\n",
       " true = -1            4551             94\n",
       " true = 1               13          19835,\n",
       " 0.9952832555572282,\n",
       " 0.9993450221684804)"
      ]
     },
     "execution_count": 34,
     "metadata": {},
     "output_type": "execute_result"
    }
   ],
   "source": [
    "true = test[\"safe_loans\"]\n",
    "prediction = classifier.predict(test[all_feature_list])\n",
    "confusion_matrix, precision, recall = confusion_matrix_func(true, prediction)\n",
    "confusion_matrix, precision, recall"
   ]
  },
  {
   "cell_type": "code",
   "execution_count": 35,
   "metadata": {},
   "outputs": [
    {
     "data": {
      "image/png": "[encoded data removed]",
      "text/plain": [
       "<Figure size 432x288 with 1 Axes>"
      ]
     },
     "metadata": {
      "needs_background": "light"
     },
     "output_type": "display_data"
    }
   ],
   "source": [
    "auc_curve(classifier)"
   ]
  },
  {
   "cell_type": "markdown",
   "metadata": {},
   "source": [
    "# model 2: random forest"
   ]
  },
  {
   "cell_type": "markdown",
   "metadata": {},
   "source": [
    "#### choosing the best tuning parameter"
   ]
  },
  {
   "cell_type": "code",
   "execution_count": null,
   "metadata": {
    "scrolled": false
   },
   "outputs": [],
   "source": [
    "estimator = RandomForestClassifier(random_state=0)\n",
    "rf_tuned_parameters = {'n_estimators': [500,600,700], \n",
    "                       \"max_depth\": [30,50,70],\n",
    "                       'min_samples_leaf': [3,5,7,9]}\n",
    "cv_grid = GridSearchCV(estimator, param_grid = rf_tuned_parameters, scoring = 'roc_auc', verbose = 5, n_jobs = 70)\n",
    "cv_grid.fit(balance_train[all_feature_list], balance_train[\"safe_loans\"])\n",
    "best_parameters = cv_grid.best_params_"
   ]
  },
  {
   "cell_type": "code",
   "execution_count": null,
   "metadata": {},
   "outputs": [],
   "source": [
    "best_parameters"
   ]
  },
  {
   "cell_type": "code",
   "execution_count": 36,
   "metadata": {},
   "outputs": [
    {
     "data": {
      "text/plain": [
       "(           predicted = -1  predicted = 1\n",
       " true = -1            4463            182\n",
       " true = 1                6          19842,\n",
       " 0.9909109069117059,\n",
       " 0.9996977025392987)"
      ]
     },
     "execution_count": 36,
     "metadata": {},
     "output_type": "execute_result"
    }
   ],
   "source": [
    "rf_model = RandomForestClassifier(max_depth = 30, min_samples_leaf = 3,n_estimators = 700)\n",
    "rf_model.fit(balance_train[all_feature_list], balance_train[\"safe_loans\"])\n",
    "true = test[\"safe_loans\"]\n",
    "prediction = rf_model.predict(test[all_feature_list])\n",
    "confusion_matrix, precision, recall = confusion_matrix_func(true, prediction)\n",
    "confusion_matrix, precision, recall"
   ]
  },
  {
   "cell_type": "code",
   "execution_count": 37,
   "metadata": {},
   "outputs": [
    {
     "data": {
      "image/png": "[encoded data removed]",
      "text/plain": [
       "<Figure size 432x288 with 1 Axes>"
      ]
     },
     "metadata": {
      "needs_background": "light"
     },
     "output_type": "display_data"
    }
   ],
   "source": [
    "auc_curve(rf_model)"
   ]
  },
  {
   "cell_type": "markdown",
   "metadata": {},
   "source": [
    "# model 3: boosting"
   ]
  },
  {
   "cell_type": "markdown",
   "metadata": {},
   "source": [
    "#### choosing the best tuning parameter"
   ]
  },
  {
   "cell_type": "code",
   "execution_count": null,
   "metadata": {},
   "outputs": [
    {
     "name": "stdout",
     "output_type": "stream",
     "text": [
      "Fitting 3 folds for each of 108 candidates, totalling 324 fits\n"
     ]
    },
    {
     "name": "stderr",
     "output_type": "stream",
     "text": [
      "[Parallel(n_jobs=70)]: Using backend LokyBackend with 70 concurrent workers.\n"
     ]
    }
   ],
   "source": [
    "estimator = GradientBoostingClassifier(random_state=0)\n",
    "GBM_tuned_parameters = {'n_estimators': [100,200,300], \n",
    "                       \"learning_rate\": [0.15, 0.1, 0.05],\n",
    "                       \"max_depth\": [30,50,70],\n",
    "                       'min_samples_leaf': [3,5,7,9]}\n",
    "cv_grid = GridSearchCV(estimator, param_grid = GBM_tuned_parameters, scoring = 'roc_auc', verbose = 5, n_jobs = 70)\n",
    "cv_grid.fit(balance_train[all_feature_list], balance_train[\"safe_loans\"])\n",
    "best_parameters = cv_grid.best_params_\n",
    "best_parameters"
   ]
  },
  {
   "cell_type": "code",
   "execution_count": 39,
   "metadata": {},
   "outputs": [
    {
     "data": {
      "text/plain": [
       "(           predicted = -1  predicted = 1\n",
       " true = -1            4610             35\n",
       " true = 1                1          19847,\n",
       " 0.9982396137209536,\n",
       " 0.9999496170898831)"
      ]
     },
     "execution_count": 39,
     "metadata": {},
     "output_type": "execute_result"
    }
   ],
   "source": [
    "gbm_model = GradientBoostingClassifier(max_depth = 30, min_samples_leaf = 7, n_estimators = 300, learning_rate = 0.15)\n",
    "gbm_model.fit(balance_train[all_feature_list], balance_train[\"safe_loans\"])\n",
    "true = test[\"safe_loans\"]\n",
    "prediction = gbm_model.predict(test[all_feature_list])\n",
    "confusion_matrix, precision, recall = confusion_matrix_func(true, prediction)\n",
    "confusion_matrix, precision, recall"
   ]
  },
  {
   "cell_type": "code",
   "execution_count": 40,
   "metadata": {},
   "outputs": [
    {
     "data": {
      "image/png": "[encoded data removed]",
      "text/plain": [
       "<Figure size 432x288 with 1 Axes>"
      ]
     },
     "metadata": {
      "needs_background": "light"
     },
     "output_type": "display_data"
    }
   ],
   "source": [
    "auc_curve(gbm_model)"
   ]
  },
  {
   "cell_type": "markdown",
   "metadata": {},
   "source": [
    "## sum up"
   ]
  },
  {
   "cell_type": "markdown",
   "metadata": {},
   "source": [
    "this project use three model to detect fraud credit card, including logistic regression, random forest and GBM, it turns out that all of the three models perform so great with 99.9% accuracy and 1 AUC."
   ]
  },
  {
   "cell_type": "code",
   "execution_count": null,
   "metadata": {},
   "outputs": [],
   "source": []
  }
 ],
 "metadata": {
  "kernelspec": {
   "display_name": "Python 2",
   "language": "python",
   "name": "python2"
  },
  "language_info": {
   "codemirror_mode": {
    "name": "ipython",
    "version": 2
   },
   "file_extension": ".py",
   "mimetype": "text/x-python",
   "name": "python",
   "nbconvert_exporter": "python",
   "pygments_lexer": "ipython2",
   "version": "2.7.15"
  }
 },
 "nbformat": 4,
 "nbformat_minor": 2
}
